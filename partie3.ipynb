{
 "cells": [
  {
   "cell_type": "markdown",
   "id": "5a5816e5",
   "metadata": {},
   "source": [
    "# Partie 3"
   ]
  },
  {
   "cell_type": "markdown",
   "id": "cd138edf",
   "metadata": {},
   "source": [
    "# Diagrammes de Bode"
   ]
  },
  {
   "cell_type": "code",
   "execution_count": null,
   "id": "bd5f9a0a",
   "metadata": {},
   "outputs": [],
   "source": [
    "\n",
    "from math import pi, sin, tan, atan\n",
    "import scipy as sc\n",
    "import numpy as np\n",
    "import matplotlib.pyplot as plt\n",
    "from scipy.signal import bode,TransferFunction\n",
    "\n",
    "##H(s) = 0,44s+4/(s^2 + 2s + 4)\n",
    "numerator = [0.44, 4]\n",
    "denominator = [1, 2, 4]\n",
    "system=TransferFunction(numerator,denominator)\n",
    "\n",
    "\n",
    "# Get Bode magnitude and phase\n",
    "frequencies, mag, phase = bode(system)\n",
    "\n",
    "# Plot\n",
    "plt.figure()\n",
    "plt.semilogx(frequencies, mag)  # Magnitude plot\n",
    "plt.title('Bode Magnitude Plot')\n",
    "plt.xlabel('Frequency [rad/s]')\n",
    "plt.ylabel('Magnitude [dB]')\n",
    "plt.grid(True)\n",
    "#Phase plot\n",
    "plt.figure()\n",
    "plt.semilogx(frequencies, phase)  # Phase plot\n",
    "plt.title('Bode Phase Plot')\n",
    "plt.xlabel('Frequency [rad/s]')\n",
    "plt.ylabel('Phase [degrees]')\n",
    "plt.grid(True)\n",
    "\n",
    "plt.show()\n"
   ]
  }
 ],
 "metadata": {
  "kernelspec": {
   "display_name": "base",
   "language": "python",
   "name": "python3"
  },
  "language_info": {
   "codemirror_mode": {
    "name": "ipython",
    "version": 3
   },
   "file_extension": ".py",
   "mimetype": "text/x-python",
   "name": "python",
   "nbconvert_exporter": "python",
   "pygments_lexer": "ipython3",
   "version": "3.11.5"
  }
 },
 "nbformat": 4,
 "nbformat_minor": 5
}
