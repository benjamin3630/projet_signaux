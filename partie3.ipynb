{
 "cells": [
  {
   "cell_type": "markdown",
   "id": "5a5816e5",
   "metadata": {},
   "source": [
    "# Partie 3"
   ]
  },
  {
   "cell_type": "code",
   "execution_count": null,
   "id": "bd5f9a0a",
   "metadata": {
    "vscode": {
     "languageId": "plaintext"
    }
   },
   "outputs": [],
   "source": []
  }
 ],
 "metadata": {
  "language_info": {
   "name": "python"
  }
 },
 "nbformat": 4,
 "nbformat_minor": 5
}
