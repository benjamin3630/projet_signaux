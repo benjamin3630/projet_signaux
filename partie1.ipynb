{
 "cells": [
  {
   "cell_type": "markdown",
   "id": "c4c66e1e-83cf-4044-b93d-229b1ed9b798",
   "metadata": {},
   "source": [
    "# Projet de Signaux et systèmes\n",
    "### Définition des variables"
   ]
  },
  {
   "cell_type": "markdown",
   "id": "ccb684f2",
   "metadata": {},
   "source": [
    "# Todos\n",
    "- Mettres les yticks correctement\n",
    "- Passer les angles en degré sur les graphiques\n",
    "- Faire les graphiques pour theta aussi pour le point 7\n",
    "- Eviter le franglais\n"
   ]
  },
  {
   "cell_type": "code",
   "execution_count": null,
   "id": "7fc9063e-c29f-4abc-bf82-bcf2841f2fea",
   "metadata": {},
   "outputs": [],
   "source": [
    "from math import pi, sin, tan, atan\n",
    "import scipy as sc\n",
    "import numpy as np\n",
    "import matplotlib.pyplot as plt\n",
    "\n",
    "t0, tf = 0, 100 # s\n",
    "v0 = 10 # m/s\n",
    "a, b = 1.1, 3.3 # m\n",
    "\n"
   ]
  },
  {
   "cell_type": "markdown",
   "id": "f66526fa-fdef-4306-a016-f4b20801f9a0",
   "metadata": {},
   "source": [
    "### Définition du système"
   ]
  },
  {
   "cell_type": "code",
   "execution_count": null,
   "id": "21660e0f-7d02-47d8-8501-79fa03246281",
   "metadata": {},
   "outputs": [],
   "source": [
    "def alpha(t, delta):\n",
    "    return atan(a*tan(delta(t))/b)\n",
    "\n",
    "def syst(t, y, delta):\n",
    "    yt, theta = y\n",
    "    dy = v0*sin(alpha(t, delta) + theta)\n",
    "    dtheta = v0*sin(alpha(t, delta))/a\n",
    "    return dy, dtheta\n",
    "\n",
    "# Différentes fonctions delta qui seront utilisées par la suite\n",
    "def delta_sinus(t):\n",
    "    return -(pi/2)*sin(2*pi*0.1*t)\n",
    "\n",
    "def delta_0(t):\n",
    "    return 0\n",
    "\n",
    "def delta_3(t):\n",
    "    return 3 * (2* pi) / 360\n",
    "\n",
    "def delta_15(t):\n",
    "    return 15 * (2* pi) / 360"
   ]
  },
  {
   "cell_type": "markdown",
   "id": "9265a3ce-4dd6-418d-a624-47a35d47a2f9",
   "metadata": {},
   "source": [
    "### 3. Résolution du système\n",
    "#### Pour l'angle de braquage qui varie"
   ]
  },
  {
   "cell_type": "code",
   "execution_count": null,
   "id": "d208254d-017e-45fd-abb7-265b6a28d47a",
   "metadata": {
    "scrolled": true
   },
   "outputs": [],
   "source": [
    "y0, theta0 = 2, 0 # conditions initiales\n",
    "t_interval = np.linspace(0, 100, 1000) # points pour évaluer les fonctions\n",
    "\n",
    "\n",
    "sol1 = sc.integrate.solve_ivp(syst, [t0, tf], [y0, theta0], t_eval = t_interval, args=[delta_sinus])\n",
    "\n",
    "fig1, ax1 = plt.subplots(nrows=2, figsize = (14, 12))\n",
    "\n",
    "\n",
    "ax1[0].plot(sol1[\"t\"], sol1[\"y\"][0]) \n",
    "ax1[0].set_xlabel(\"Temps [s]\")\n",
    "ax1[0].set_ylabel(r'Position verticale $y(t)$ [m]')\n",
    "ax1[0].set_xticks([0, 100])\n",
    "ax1[0].set_title(r'Position lorsque $\\delta(t) = \\frac{\\pi}{2}\\sin \\left( 2 \\pi \\times 0.1 \\times t \\right)$, avec $y_0=0$ et $\\theta_0=0$')\n",
    "\n",
    "ax1[1].plot(sol1[\"t\"], sol1[\"y\"][1])\n",
    "ax1[1].set_xlabel(\"Temps [s]\")\n",
    "ax1[1].set_ylabel(r'Angle $\\theta(t)$ [-]')\n",
    "ax1[1].set_xticks([0, 100])\n",
    "ax1[1].set_title(r'Angle lorsque $\\delta(t) = \\frac{\\pi}{2}\\sin \\left( 2 \\pi \\times 0.1 \\times t \\right)$, avec $y_0=0$ et $\\theta_0=0$')\n",
    "\n"
   ]
  },
  {
   "cell_type": "markdown",
   "id": "5a58ea4a-fea9-4488-ad2f-04c5f9152634",
   "metadata": {},
   "source": [
    "#### Pour l'angle de braquage = 0"
   ]
  },
  {
   "cell_type": "code",
   "execution_count": null,
   "id": "9614e651-dcce-42ca-9b71-b6643785db33",
   "metadata": {},
   "outputs": [],
   "source": [
    "sol2 = sc.integrate.solve_ivp(syst, [t0, tf], [y0, theta0], t_eval = t_interval, args=[delta_0])\n",
    "\n",
    "plt.figure(figsize= (8, 4))\n",
    "plt.plot(sol2[\"t\"], sol2[\"y\"][0], label=r'Position $y(t)$')    # only plotting q, here\n",
    "plt.plot(sol2[\"t\"], sol2[\"y\"][1], label=r'Angle $\\theta$')\n",
    "plt.xlabel(\"Temps [s]\")\n",
    "plt.ylabel(\"Position verticale y [m]\")\n",
    "plt.yticks([0,2])\n",
    "plt.xticks([0, 100])\n",
    "plt.title(r'Position et angle lorsque $\\delta(t)=0$, avec $y_0=0$ et $\\theta_0=0$')\n",
    "plt.legend()\n",
    "#plt.xlim(0,100)\n",
    "plt.show()"
   ]
  },
  {
   "cell_type": "markdown",
   "id": "906f2b91",
   "metadata": {},
   "source": [
    "### 7. Simuler aux conditions initiales\n",
    "#### Modèle non-linéarisé\n"
   ]
  },
  {
   "cell_type": "code",
   "execution_count": null,
   "id": "ef5efd3f",
   "metadata": {},
   "outputs": [],
   "source": [
    "y0, theta0 = 0, 0\n",
    "\n",
    "sol_non_lin_0 = sc.integrate.solve_ivp(syst, [t0, tf], [y0, theta0], t_eval = t_interval, args=[delta_0])\n",
    "\n",
    "sol_non_lin_3 = sc.integrate.solve_ivp(syst, [t0, tf], [y0, theta0], t_eval = t_interval, args=[delta_3])\n",
    "\n",
    "sol_non_lin_15 = sc.integrate.solve_ivp(syst, [t0, tf], [y0, theta0], t_eval = t_interval, args=[delta_15])\n",
    "plt.figure()\n",
    "\n",
    "plt.plot(sol_non_lin_0[\"t\"], sol_non_lin_0[\"y\"][0], label=r'Pour $\\delta(t)=0°$ ') \n",
    "plt.plot(sol_non_lin_3[\"t\"], sol_non_lin_3[\"y\"][0], label=r'Pour $\\delta(t)=3°$') \n",
    "plt.plot(sol_non_lin_15[\"t\"], sol_non_lin_15[\"y\"][0], label=r'Pour $\\delta(t)=15°$') \n",
    "plt.xticks([0, 100])\n",
    "plt.xlabel(r'Temps [s]')\n",
    "plt.ylabel(r'Position y(t) [m]')\n",
    "plt.title(r'Modèle non-linéaire pour différentes valeurs de $\\delta(t)$')\n",
    "\n",
    "plt.legend()\n",
    "plt.show()\n"
   ]
  },
  {
   "cell_type": "markdown",
   "id": "9114262f",
   "metadata": {},
   "source": [
    "#### Modèle linéarisé A, B, C, D"
   ]
  },
  {
   "cell_type": "code",
   "execution_count": null,
   "id": "1d6fd75f",
   "metadata": {},
   "outputs": [],
   "source": [
    "A = np.matrix([[0, v0], \n",
    "               [0, 0]])\n",
    "\n",
    "B = np.matrix([[(a/b)*v0],\n",
    "               [v0/b]] )\n",
    "\n",
    "C = np.matrix([1, 0]) #! verif que c'est pas l'inverse\n",
    "D = np.matrix([0])\n",
    "\n",
    "y0 , theta0 = 0, 0\n",
    "\n",
    "def systABCD(t, y, delta):\n",
    "    Y = np.matrix([[y[0]], \n",
    "                   [y[1]]])\n",
    "    \n",
    "    X = (A * Y) + (B * delta(t))\n",
    "\n",
    "    dy = X[0,0]\n",
    "    dtheta = X[1,0]\n",
    "    \n",
    "    return dy, dtheta\n",
    "\n",
    "sol_ABCD_0 = sc.integrate.solve_ivp(systABCD, [t0, tf], [y0, theta0], t_eval = t_interval, args=[delta_0])\n",
    "\n",
    "sol_ABCD_3 = sc.integrate.solve_ivp(systABCD, [t0, tf], [y0, theta0], t_eval = t_interval, args=[delta_3])\n",
    "\n",
    "sol_ABCD_15 = sc.integrate.solve_ivp(systABCD, [t0, tf], [y0, theta0], t_eval = t_interval, args=[delta_15])\n",
    "\n",
    "fig2, ax2 = plt.subplots(nrows=2, figsize=(10,10))\n",
    "#ax2[0].figure(figsize=(10,4))\n",
    "ax2[0].plot(sol_ABCD_0[\"t\"], sol_ABCD_0[\"y\"][0], label=r'ABCD, $\\delta(t)=0°$ ') \n",
    "ax2[0].plot(sol_ABCD_3[\"t\"], sol_ABCD_3[\"y\"][0], label=r'ABCD, $\\delta(t)=3°$ ') \n",
    "ax2[0].plot(sol_ABCD_15[\"t\"], sol_ABCD_15[\"y\"][0], label=r'ABCD, $\\delta(t)=15°$ ')\n",
    "ax2[0].set_ylabel(r'Position y(t) [m]')\n",
    "ax2[0].set_xlabel(r'Temps [s]')\n",
    "ax2[0].set_xticks([0, 100])\n",
    "ax2[0].set_title(r'Position verticale pour différentes valeurs de $\\delta(t)$ avec le modèle linéarisé')\n",
    "\n",
    "ax2[1].plot(sol_ABCD_0[\"t\"], sol_ABCD_0[\"y\"][1], label=r'$\\theta$ pour $\\delta(t)=0°$ ') \n",
    "ax2[1].plot(sol_ABCD_3[\"t\"], sol_ABCD_3[\"y\"][1], label=r'$\\theta$ pour $\\delta(t)=3°$ ') \n",
    "ax2[1].plot(sol_ABCD_15[\"t\"], sol_ABCD_15[\"y\"][1], label=r'theta pour $\\delta(t)=15°$ ')\n",
    "ax2[1].set_ylabel(r'Angle $\\theta(t)$ [m]')\n",
    "ax2[1].set_xlabel(r'Temps [s]')\n",
    "ax2[1].set_xticks([0, 100])\n",
    "\n",
    "ax2[1].set_title(r'Angle pour différentes valeurs de $\\delta(t)$ avec le modèle linéarisé')\n",
    "\n",
    "plt.legend()\n",
    "plt.show()"
   ]
  },
  {
   "cell_type": "markdown",
   "id": "c009386b",
   "metadata": {},
   "source": [
    "### 8. Trajectoire"
   ]
  },
  {
   "cell_type": "code",
   "execution_count": null,
   "id": "0c9f75b7",
   "metadata": {},
   "outputs": [],
   "source": [
    "mu_obj = 50\n",
    "sigma_obj = 5\n",
    "\n",
    "def objectif_trajectoire(t):\n",
    "    return (25/ (np.sqrt(2*np.pi* np.power(sigma_obj, 2))) ) * np.exp( - ( np.power((t-mu_obj),2))/(2*np.power(sigma_obj,2)) )\n",
    "\n",
    "\n",
    "def delta_exp(t, A, mu, sigma):\n",
    "    return (A/ (np.sqrt(2*np.pi* np.power(sigma, 2))) ) * np.exp( - ( np.power((t-mu),2))/(2*np.power(sigma,2)) )\n",
    "\n",
    "\n",
    "def combinaison_gaussiennes(t, A1, A2, mu1, mu3, sigma1, sigma2):\n",
    "    return delta_exp(t, A1, mu1, sigma1) + delta_exp(t, A2, 50, sigma2) + delta_exp(t, A1, mu3, sigma1)\n",
    "\n",
    "\"\"\" \n",
    "pour une gaussienne :\n",
    "mu = position du max => mu2 = 50 par symétrie\n",
    "sigma = \"hauteur du pic\" => sigma1 = sigma3 par symetrie\n",
    "A = amplitude => A1 = A3 par symétrie\n",
    "\"\"\"\n",
    "\n",
    "\n",
    "\n",
    "y_cible = objectif_trajectoire(t_interval)\n",
    "\n",
    "def fonction_erreur(params):\n",
    "    A1, A2, mu1, mu3, sigma1, sigma2 = params\n",
    "    sol = sc.integrate.solve_ivp(syst, [t0, tf], [y0, theta0], t_eval = t_interval, args=[lambda t: combinaison_gaussiennes(t, A1, A2, mu1, mu3, sigma1, sigma2)])\n",
    "    \n",
    "    y_actuel = sol[\"y\"][0]\n",
    "\n",
    "    #print(np.mean(np.power((y_cible - y_actuel),2)))\n",
    "    return np.mean(np.power((y_cible - y_actuel),2))\n",
    "\n",
    "#resultat = sc.optimize.minimize(fonction_erreur, [5.20452627e-03, -1.04731637e-02,  6.26096336e+01,  3.71312045e+01, 2.02511091e+00,  1.36745151e+00], method='Nelder-Mead', options={'disp': True})\n",
    "resultat = sc.optimize.minimize(fonction_erreur, [5.20452627e-03, -1.04731637e-02,  6.26096336e+01,  3.71312045e+01, 2.02511091e+00,  1.36745151e+00], method='L-BFGS-B', options={'disp': True, 'ftol': 1e-9, 'gtol': 1e-9})\n",
    "\n",
    "#[0.005, -0.01, 50, 50, 2, 1.5]\n",
    "\n",
    "# paramètres optimaux\n",
    "A1, A2, mu1, mu3, sigma1, sigma2 = resultat.x\n",
    "\n",
    "sol_trouvee = sc.integrate.solve_ivp(syst, [t0, tf], [y0, theta0], t_eval = np.linspace(t0, tf, 1000), args=[lambda t: combinaison_gaussiennes(t, A1, A2, mu1, mu3, sigma1, sigma2)])\n",
    "\n",
    "plt.figure()\n",
    "plt.plot(t_interval, y_cible, label='cible')\n",
    "plt.plot(sol_trouvee[\"t\"], sol_trouvee[\"y\"][0], label ='test')\n",
    "plt.legend()\n",
    "plt.show()\n",
    "\n",
    "print(f'Mean square error : {resultat.fun}') # min square erreur obtenue quand on evalue avec les paramètres trouvés\n",
    "from functools import partial\n",
    "entree = partial(combinaison_gaussiennes, A1=A1, A2=A2, mu1=mu1, mu3=mu3, sigma1=sigma1, sigma2=sigma2)\n",
    "a = np.vectorize(entree)(t_interval)\n",
    "plt.figure()\n",
    "plt.plot(t_interval, a, label='combinaison gaussienne')\n",
    "plt.show()"
   ]
  }
 ],
 "metadata": {
  "kernelspec": {
   "display_name": "Python 3",
   "language": "python",
   "name": "python3"
  },
  "language_info": {
   "codemirror_mode": {
    "name": "ipython",
    "version": 3
   },
   "file_extension": ".py",
   "mimetype": "text/x-python",
   "name": "python",
   "nbconvert_exporter": "python",
   "pygments_lexer": "ipython3",
   "version": "3.11.4"
  }
 },
 "nbformat": 4,
 "nbformat_minor": 5
}
